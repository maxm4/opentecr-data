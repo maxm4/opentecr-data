{
 "cells": [
  {
   "cell_type": "markdown",
   "id": "01c3060a-8df6-4f96-9357-7ae676bdd497",
   "metadata": {},
   "source": [
    "# Scrape"
   ]
  },
  {
   "cell_type": "code",
   "execution_count": 57,
   "id": "9ec7be81-7c22-44fb-a5ff-64e4c9ed1ea6",
   "metadata": {},
   "outputs": [
    {
     "name": "stdout",
     "output_type": "stream",
     "text": [
      "54CHA_1086 \t\t185/1433 enzymes \t\t608 datums \t\t\t\t\t\t\t\t\r"
     ]
    },
    {
     "name": "stderr",
     "output_type": "stream",
     "text": [
      "C:\\Users\\Andrew Freiburger\\Documents\\Argonne\\openTECR\\opentecr\\core_scripts\\scraping.py:59: UserWarning: TECRError: The 54GIN/STU_1062 reference https://randr.nist.gov/enzyme/DataDetails.aspx?ID=54GIN/STU_1062&finalterm=&data=enzyme does not possess data.\n",
      "  warn(f'TECRError: The {id_value} reference {total_url} does not possess data.')\n"
     ]
    },
    {
     "name": "stdout",
     "output_type": "stream",
     "text": [
      "54MIT/DAV_1168 \t\t198/1433 enzymes \t\t630 datums \t\t\t\t\r"
     ]
    },
    {
     "name": "stderr",
     "output_type": "stream",
     "text": [
      "C:\\Users\\Andrew Freiburger\\Documents\\Argonne\\openTECR\\opentecr\\core_scripts\\scraping.py:59: UserWarning: TECRError: The 54NOD/KUB_593 reference https://randr.nist.gov/enzyme/DataDetails.aspx?ID=54NOD/KUB_593&finalterm=&data=enzyme does not possess data.\n",
      "  warn(f'TECRError: The {id_value} reference {total_url} does not possess data.')\n"
     ]
    },
    {
     "name": "stdout",
     "output_type": "stream",
     "text": [
      "56PAL/DOU_1344 \t\t273/1433 enzymes \t\t807 datums \t\t\t\t\r"
     ]
    },
    {
     "name": "stderr",
     "output_type": "stream",
     "text": [
      "C:\\Users\\Andrew Freiburger\\Documents\\Argonne\\openTECR\\opentecr\\core_scripts\\scraping.py:59: UserWarning: TECRError: The 56POD/MOR_1073 reference https://randr.nist.gov/enzyme/DataDetails.aspx?ID=56POD/MOR_1073&finalterm=&data=enzyme does not possess data.\n",
      "  warn(f'TECRError: The {id_value} reference {total_url} does not possess data.')\n"
     ]
    },
    {
     "name": "stdout",
     "output_type": "stream",
     "text": [
      "58BAC_14 \t\t321/1433 enzymes \t\t921 datums \t\t\t\t \t\t\t\t\t\r"
     ]
    },
    {
     "name": "stderr",
     "output_type": "stream",
     "text": [
      "C:\\Users\\Andrew Freiburger\\Documents\\Argonne\\openTECR\\opentecr\\core_scripts\\scraping.py:59: UserWarning: TECRError: The 57WOL/BAL_1173 reference https://randr.nist.gov/enzyme/DataDetails.aspx?ID=57WOL/BAL_1173&finalterm=&data=enzyme does not possess data.\n",
      "  warn(f'TECRError: The {id_value} reference {total_url} does not possess data.')\n"
     ]
    },
    {
     "name": "stdout",
     "output_type": "stream",
     "text": [
      "66WOO/DAV_1084 \t\t611/1433 enzymes \t\t1450 datums \t\t\t\t\t\r"
     ]
    },
    {
     "name": "stderr",
     "output_type": "stream",
     "text": [
      "C:\\Users\\Andrew Freiburger\\Documents\\Argonne\\openTECR\\opentecr\\core_scripts\\scraping.py:59: UserWarning: TECRError: The 66WOO/DAV_1445 reference https://randr.nist.gov/enzyme/DataDetails.aspx?ID=66WOO/DAV_1445&finalterm=&data=enzyme does not possess data.\n",
      "  warn(f'TECRError: The {id_value} reference {total_url} does not possess data.')\n"
     ]
    },
    {
     "name": "stdout",
     "output_type": "stream",
     "text": [
      "67LOM/GRE_1059 \t\t623/1433 enzymes \t\t1534 datums \t\t\t\t\r"
     ]
    },
    {
     "name": "stderr",
     "output_type": "stream",
     "text": [
      "C:\\Users\\Andrew Freiburger\\Documents\\Argonne\\openTECR\\opentecr\\core_scripts\\scraping.py:59: UserWarning: TECRError: The 67MOR/WHI_596 reference https://randr.nist.gov/enzyme/DataDetails.aspx?ID=67MOR/WHI_596&finalterm=&data=enzyme does not possess data.\n",
      "  warn(f'TECRError: The {id_value} reference {total_url} does not possess data.')\n"
     ]
    },
    {
     "name": "stdout",
     "output_type": "stream",
     "text": [
      "68KOH/JAK2_90 \t\t671/1433 enzymes \t\t1673 datums \t\t\t\t\t\r"
     ]
    },
    {
     "name": "stderr",
     "output_type": "stream",
     "text": [
      "C:\\Users\\Andrew Freiburger\\Documents\\Argonne\\openTECR\\opentecr\\core_scripts\\scraping.py:59: UserWarning: TECRError: The 68KOH/WAR_87 reference https://randr.nist.gov/enzyme/DataDetails.aspx?ID=68KOH/WAR_87&finalterm=&data=enzyme does not possess data.\n",
      "  warn(f'TECRError: The {id_value} reference {total_url} does not possess data.')\n"
     ]
    },
    {
     "name": "stdout",
     "output_type": "stream",
     "text": [
      "69BLA/FRA_1381 \t\t696/1433 enzymes \t\t1752 datums \t\t\t\t\r"
     ]
    },
    {
     "name": "stderr",
     "output_type": "stream",
     "text": [
      "C:\\Users\\Andrew Freiburger\\Documents\\Argonne\\openTECR\\opentecr\\core_scripts\\scraping.py:59: UserWarning: TECRError: The 69BLA_1166 reference https://randr.nist.gov/enzyme/DataDetails.aspx?ID=69BLA_1166&finalterm=&data=enzyme does not possess data.\n",
      "  warn(f'TECRError: The {id_value} reference {total_url} does not possess data.')\n"
     ]
    },
    {
     "name": "stdout",
     "output_type": "stream",
     "text": [
      "74CHE/PAT_837 \t\t851/1433 enzymes \t\t2196 datums \t\t\t\t\t\r"
     ]
    },
    {
     "name": "stderr",
     "output_type": "stream",
     "text": [
      "C:\\Users\\Andrew Freiburger\\Documents\\Argonne\\openTECR\\opentecr\\core_scripts\\scraping.py:59: UserWarning: TECRError: The 74CLA/BIR_1395 reference https://randr.nist.gov/enzyme/DataDetails.aspx?ID=74CLA/BIR_1395&finalterm=&data=enzyme does not possess data.\n",
      "  warn(f'TECRError: The {id_value} reference {total_url} does not possess data.')\n"
     ]
    },
    {
     "name": "stdout",
     "output_type": "stream",
     "text": [
      "74FER/STR_1380 \t\t855/1433 enzymes \t\t2199 datums \t\t\t\t\r"
     ]
    },
    {
     "name": "stderr",
     "output_type": "stream",
     "text": [
      "C:\\Users\\Andrew Freiburger\\Documents\\Argonne\\openTECR\\opentecr\\core_scripts\\scraping.py:59: UserWarning: TECRError: The 74FLO/FLE_1063 reference https://randr.nist.gov/enzyme/DataDetails.aspx?ID=74FLO/FLE_1063&finalterm=&data=enzyme does not possess data.\n",
      "  warn(f'TECRError: The {id_value} reference {total_url} does not possess data.')\n"
     ]
    },
    {
     "name": "stdout",
     "output_type": "stream",
     "text": [
      "74LAN_575 \t\t867/1433 enzymes \t\t2248 datums \t\t\t\t \t\t\t\t\r"
     ]
    },
    {
     "name": "stderr",
     "output_type": "stream",
     "text": [
      "C:\\Users\\Andrew Freiburger\\Documents\\Argonne\\openTECR\\opentecr\\core_scripts\\scraping.py:59: UserWarning: TECRError: The 74LAN_648 reference https://randr.nist.gov/enzyme/DataDetails.aspx?ID=74LAN_648&finalterm=&data=enzyme does not possess data.\n",
      "  warn(f'TECRError: The {id_value} reference {total_url} does not possess data.')\n"
     ]
    },
    {
     "name": "stdout",
     "output_type": "stream",
     "text": [
      "76GRE/BRI_328 \t\t919/1433 enzymes \t\t2413 datums \t\t\t\t\t\r"
     ]
    },
    {
     "name": "stderr",
     "output_type": "stream",
     "text": [
      "C:\\Users\\Andrew Freiburger\\Documents\\Argonne\\openTECR\\opentecr\\core_scripts\\scraping.py:59: UserWarning: TECRError: The 76GOL_548 reference https://randr.nist.gov/enzyme/DataDetails.aspx?ID=76GOL_548&finalterm=&data=enzyme does not possess data.\n",
      "  warn(f'TECRError: The {id_value} reference {total_url} does not possess data.')\n"
     ]
    },
    {
     "name": "stdout",
     "output_type": "stream",
     "text": [
      "79BYE/SHE_255 \t\t967/1433 enzymes \t\t2605 datums \t\t\t\t\t\r"
     ]
    },
    {
     "name": "stderr",
     "output_type": "stream",
     "text": [
      "C:\\Users\\Andrew Freiburger\\Documents\\Argonne\\openTECR\\opentecr\\core_scripts\\scraping.py:59: UserWarning: TECRError: The 79COR/CRO_16 reference https://randr.nist.gov/enzyme/DataDetails.aspx?ID=79COR/CRO_16&finalterm=&data=enzyme does not possess data.\n",
      "  warn(f'TECRError: The {id_value} reference {total_url} does not possess data.')\n"
     ]
    },
    {
     "name": "stdout",
     "output_type": "stream",
     "text": [
      "79LAW/VEE_651 \t\t980/1433 enzymes \t\t2700 datums \t\t\t\t\t\r"
     ]
    },
    {
     "name": "stderr",
     "output_type": "stream",
     "text": [
      "C:\\Users\\Andrew Freiburger\\Documents\\Argonne\\openTECR\\opentecr\\core_scripts\\scraping.py:59: UserWarning: TECRError: The 79LAW/VEE_774 reference https://randr.nist.gov/enzyme/DataDetails.aspx?ID=79LAW/VEE_774&finalterm=&data=enzyme does not possess data.\n",
      "  warn(f'TECRError: The {id_value} reference {total_url} does not possess data.')\n",
      "C:\\Users\\Andrew Freiburger\\Documents\\Argonne\\openTECR\\opentecr\\core_scripts\\scraping.py:59: UserWarning: TECRError: The 79LAW/VEE_831 reference https://randr.nist.gov/enzyme/DataDetails.aspx?ID=79LAW/VEE_831&finalterm=&data=enzyme does not possess data.\n",
      "  warn(f'TECRError: The {id_value} reference {total_url} does not possess data.')\n"
     ]
    },
    {
     "name": "stdout",
     "output_type": "stream",
     "text": [
      "84BLA/COC_295 \t\t1078/1433 enzymes \t\t3091 datums \t\t\t\t\t\r"
     ]
    },
    {
     "name": "stderr",
     "output_type": "stream",
     "text": [
      "C:\\Users\\Andrew Freiburger\\Documents\\Argonne\\openTECR\\opentecr\\core_scripts\\scraping.py:59: UserWarning: TECRError: The 84DEM_1065 reference https://randr.nist.gov/enzyme/DataDetails.aspx?ID=84DEM_1065&finalterm=&data=enzyme does not possess data.\n",
      "  warn(f'TECRError: The {id_value} reference {total_url} does not possess data.')\n"
     ]
    },
    {
     "name": "stdout",
     "output_type": "stream",
     "text": [
      "85DAS/BRO_746 \t\t1099/1433 enzymes \t\t3130 datums \t\t\t\t\t\r"
     ]
    },
    {
     "name": "stderr",
     "output_type": "stream",
     "text": [
      "C:\\Users\\Andrew Freiburger\\Documents\\Argonne\\openTECR\\opentecr\\core_scripts\\scraping.py:59: UserWarning: TECRError: The 85DEM/BEH_1066 reference https://randr.nist.gov/enzyme/DataDetails.aspx?ID=85DEM/BEH_1066&finalterm=&data=enzyme does not possess data.\n",
      "  warn(f'TECRError: The {id_value} reference {total_url} does not possess data.')\n"
     ]
    },
    {
     "name": "stdout",
     "output_type": "stream",
     "text": [
      "86CAS/VEE2_753 \t\t1129/1433 enzymes \t\t3279 datums \t\t\t\t\t\r"
     ]
    },
    {
     "name": "stderr",
     "output_type": "stream",
     "text": [
      "C:\\Users\\Andrew Freiburger\\Documents\\Argonne\\openTECR\\opentecr\\core_scripts\\scraping.py:59: UserWarning: TECRError: The 86DAL/REN_1067 reference https://randr.nist.gov/enzyme/DataDetails.aspx?ID=86DAL/REN_1067&finalterm=&data=enzyme does not possess data.\n",
      "  warn(f'TECRError: The {id_value} reference {total_url} does not possess data.')\n"
     ]
    },
    {
     "name": "stdout",
     "output_type": "stream",
     "text": [
      "89ROM/DEM_780 \t\t1212/1433 enzymes \t\t3556 datums \t\t\t\t\t\r"
     ]
    },
    {
     "name": "stderr",
     "output_type": "stream",
     "text": [
      "C:\\Users\\Andrew Freiburger\\Documents\\Argonne\\openTECR\\opentecr\\core_scripts\\scraping.py:59: UserWarning: TECRError: The 89ROM/DEM_808 reference https://randr.nist.gov/enzyme/DataDetails.aspx?ID=89ROM/DEM_808&finalterm=&data=enzyme does not possess data.\n",
      "  warn(f'TECRError: The {id_value} reference {total_url} does not possess data.')\n",
      "C:\\Users\\Andrew Freiburger\\Documents\\Argonne\\openTECR\\opentecr\\core_scripts\\scraping.py:59: UserWarning: TECRError: The 89ROM/DEM_812 reference https://randr.nist.gov/enzyme/DataDetails.aspx?ID=89ROM/DEM_812&finalterm=&data=enzyme does not possess data.\n",
      "  warn(f'TECRError: The {id_value} reference {total_url} does not possess data.')\n"
     ]
    },
    {
     "name": "stdout",
     "output_type": "stream",
     "text": [
      "91KLE/RAN_654 \t\t1244/1433 enzymes \t\t3614 datums \t\t\t\t\t\r"
     ]
    },
    {
     "name": "stderr",
     "output_type": "stream",
     "text": [
      "C:\\Users\\Andrew Freiburger\\Documents\\Argonne\\openTECR\\opentecr\\core_scripts\\scraping.py:59: UserWarning: TECRError: The 91HOR/WAT_468 reference https://randr.nist.gov/enzyme/DataDetails.aspx?ID=91HOR/WAT_468&finalterm=&data=enzyme does not possess data.\n",
      "  warn(f'TECRError: The {id_value} reference {total_url} does not possess data.')\n"
     ]
    },
    {
     "name": "stdout",
     "output_type": "stream",
     "text": [
      "91TEW/GOL_935 \t\t1264/1433 enzymes \t\t3660 datums \t\t\t\t\t\r"
     ]
    },
    {
     "name": "stderr",
     "output_type": "stream",
     "text": [
      "C:\\Users\\Andrew Freiburger\\Documents\\Argonne\\openTECR\\opentecr\\core_scripts\\scraping.py:59: UserWarning: TECRError: The 91TEW/GOL2_655 reference https://randr.nist.gov/enzyme/DataDetails.aspx?ID=91TEW/GOL2_655&finalterm=&data=enzyme does not possess data.\n",
      "  warn(f'TECRError: The {id_value} reference {total_url} does not possess data.')\n",
      "C:\\Users\\Andrew Freiburger\\Documents\\Argonne\\openTECR\\opentecr\\core_scripts\\scraping.py:59: UserWarning: TECRError: The 91TEW/GOL2_656 reference https://randr.nist.gov/enzyme/DataDetails.aspx?ID=91TEW/GOL2_656&finalterm=&data=enzyme does not possess data.\n",
      "  warn(f'TECRError: The {id_value} reference {total_url} does not possess data.')\n"
     ]
    },
    {
     "name": "stdout",
     "output_type": "stream",
     "text": [
      "93JAN/PAD_742 \t\t1313/1433 enzymes \t\t3771 datums \t\t\t\t\t\r"
     ]
    },
    {
     "name": "stderr",
     "output_type": "stream",
     "text": [
      "C:\\Users\\Andrew Freiburger\\Documents\\Argonne\\openTECR\\opentecr\\core_scripts\\scraping.py:59: UserWarning: TECRError: The 93LAR/TEW_1053 reference https://randr.nist.gov/enzyme/DataDetails.aspx?ID=93LAR/TEW_1053&finalterm=&data=enzyme does not possess data.\n",
      "  warn(f'TECRError: The {id_value} reference {total_url} does not possess data.')\n",
      "C:\\Users\\Andrew Freiburger\\Documents\\Argonne\\openTECR\\opentecr\\core_scripts\\scraping.py:59: UserWarning: TECRError: The 93LAR/TEW_1056 reference https://randr.nist.gov/enzyme/DataDetails.aspx?ID=93LAR/TEW_1056&finalterm=&data=enzyme does not possess data.\n",
      "  warn(f'TECRError: The {id_value} reference {total_url} does not possess data.')\n"
     ]
    },
    {
     "name": "stdout",
     "output_type": "stream",
     "text": [
      "99TEW/SCH_723 \t\t1432/1433 enzymes \t\t4034 datums \t\t\t\t\t\t\r"
     ]
    },
    {
     "data": {
      "text/html": [
       "<div>\n",
       "<style scoped>\n",
       "    .dataframe tbody tr th:only-of-type {\n",
       "        vertical-align: middle;\n",
       "    }\n",
       "\n",
       "    .dataframe tbody tr th {\n",
       "        vertical-align: top;\n",
       "    }\n",
       "\n",
       "    .dataframe thead th {\n",
       "        text-align: right;\n",
       "    }\n",
       "</style>\n",
       "<table border=\"1\" class=\"dataframe\">\n",
       "  <thead>\n",
       "    <tr style=\"text-align: right;\">\n",
       "      <th></th>\n",
       "      <th>Enzyme:</th>\n",
       "      <th>Reaction:</th>\n",
       "      <th>T(K)</th>\n",
       "      <th>pH</th>\n",
       "      <th>K&lt;sub&gt;c&lt;/sub&gt;'</th>\n",
       "      <th>Reference:</th>\n",
       "      <th>Reference ID:</th>\n",
       "      <th>EC Value:</th>\n",
       "      <th>Method:</th>\n",
       "      <th>Buffer:</th>\n",
       "      <th>...</th>\n",
       "      <th>δ&lt;sub&gt;r&lt;/sub&gt;H(cal)/,kJ.mol&lt;sup&gt;-1&lt;/sup&gt;)</th>\n",
       "      <th>p(MPa)</th>\n",
       "      <th>added solute</th>\n",
       "      <th>media</th>\n",
       "      <th>K</th>\n",
       "      <th>m(MgCl2,mol.kg&lt;sup&gt;-1&lt;/sup&gt;)</th>\n",
       "      <th>K'(kJ.mol&lt;sup&gt;-1&lt;/sup&gt;)</th>\n",
       "      <th>I&lt;sub&gt;c&lt;/sub&gt;(kJ.mol&lt;sup&gt;-1&lt;/sup&gt;)</th>\n",
       "      <th>δ&lt;sub&gt;r&lt;/sub&gt;H(cal)</th>\n",
       "      <th>δ&lt;sub&gt;r&lt;/sub&gt;H?(kJ.mol&lt;sup&gt;-1&lt;/sup&gt;)</th>\n",
       "    </tr>\n",
       "    <tr>\n",
       "      <th>index</th>\n",
       "      <th></th>\n",
       "      <th></th>\n",
       "      <th></th>\n",
       "      <th></th>\n",
       "      <th></th>\n",
       "      <th></th>\n",
       "      <th></th>\n",
       "      <th></th>\n",
       "      <th></th>\n",
       "      <th></th>\n",
       "      <th></th>\n",
       "      <th></th>\n",
       "      <th></th>\n",
       "      <th></th>\n",
       "      <th></th>\n",
       "      <th></th>\n",
       "      <th></th>\n",
       "      <th></th>\n",
       "      <th></th>\n",
       "      <th></th>\n",
       "      <th></th>\n",
       "    </tr>\n",
       "  </thead>\n",
       "  <tbody>\n",
       "    <tr>\n",
       "      <th>0</th>\n",
       "      <td>aspartate ammonia-lyase</td>\n",
       "      <td>L-aspartate(aq) = fumarate(aq) + ammonia(aq)</td>\n",
       "      <td>310.15</td>\n",
       "      <td>7.4</td>\n",
       "      <td>~0.04</td>\n",
       "      <td>Quastel J.H.; Woolf B.; Biochem. J.; 20 545 (1...</td>\n",
       "      <td>26QUA/WOO_1205</td>\n",
       "      <td>4.3.1.1\\r                                    ...</td>\n",
       "      <td>chemical analysis</td>\n",
       "      <td>phosphate</td>\n",
       "      <td>...</td>\n",
       "      <td>NaN</td>\n",
       "      <td>NaN</td>\n",
       "      <td>NaN</td>\n",
       "      <td>NaN</td>\n",
       "      <td>NaN</td>\n",
       "      <td>NaN</td>\n",
       "      <td>NaN</td>\n",
       "      <td>NaN</td>\n",
       "      <td>NaN</td>\n",
       "      <td>NaN</td>\n",
       "    </tr>\n",
       "    <tr>\n",
       "      <th>1</th>\n",
       "      <td>aspartate ammonia-lyase</td>\n",
       "      <td>L-aspartate(aq) = fumarate(aq) + ammonia(aq)</td>\n",
       "      <td>310.15</td>\n",
       "      <td>7.4</td>\n",
       "      <td>0.01</td>\n",
       "      <td>Woolf B.; Biochem. J.; 23 472 (1929).</td>\n",
       "      <td>29WOO_1206</td>\n",
       "      <td>4.3.1.1\\r                                    ...</td>\n",
       "      <td>chemical analysis and polarimetry</td>\n",
       "      <td>phosphate</td>\n",
       "      <td>...</td>\n",
       "      <td>NaN</td>\n",
       "      <td>NaN</td>\n",
       "      <td>NaN</td>\n",
       "      <td>NaN</td>\n",
       "      <td>NaN</td>\n",
       "      <td>NaN</td>\n",
       "      <td>NaN</td>\n",
       "      <td>NaN</td>\n",
       "      <td>NaN</td>\n",
       "      <td>NaN</td>\n",
       "    </tr>\n",
       "    <tr>\n",
       "      <th>2</th>\n",
       "      <td>fumarate hydratase</td>\n",
       "      <td>fumarate(aq) + H2O(l) = (S)-malate(aq)</td>\n",
       "      <td>298.15</td>\n",
       "      <td>6.81</td>\n",
       "      <td>NaN</td>\n",
       "      <td>Borsook H.; Schott H.F.; J. Biol. Chem.; 92 55...</td>\n",
       "      <td>31BOR/SCH_1141</td>\n",
       "      <td>4.2.1.2\\r                                    ...</td>\n",
       "      <td>electrochemistry</td>\n",
       "      <td></td>\n",
       "      <td>...</td>\n",
       "      <td>NaN</td>\n",
       "      <td>NaN</td>\n",
       "      <td>NaN</td>\n",
       "      <td>NaN</td>\n",
       "      <td>NaN</td>\n",
       "      <td>NaN</td>\n",
       "      <td>NaN</td>\n",
       "      <td>NaN</td>\n",
       "      <td>NaN</td>\n",
       "      <td>NaN</td>\n",
       "    </tr>\n",
       "    <tr>\n",
       "      <th>3</th>\n",
       "      <td>fumarate hydratase</td>\n",
       "      <td>fumarate(aq) + H2O(l) = (S)-malate(aq)</td>\n",
       "      <td>298.15</td>\n",
       "      <td>7.12</td>\n",
       "      <td>NaN</td>\n",
       "      <td>NaN</td>\n",
       "      <td>NaN</td>\n",
       "      <td>NaN</td>\n",
       "      <td>NaN</td>\n",
       "      <td>NaN</td>\n",
       "      <td>...</td>\n",
       "      <td>NaN</td>\n",
       "      <td>NaN</td>\n",
       "      <td>NaN</td>\n",
       "      <td>NaN</td>\n",
       "      <td>NaN</td>\n",
       "      <td>NaN</td>\n",
       "      <td>NaN</td>\n",
       "      <td>NaN</td>\n",
       "      <td>NaN</td>\n",
       "      <td>NaN</td>\n",
       "    </tr>\n",
       "    <tr>\n",
       "      <th>4</th>\n",
       "      <td>fumarate hydratase</td>\n",
       "      <td>fumarate(aq) + H2O(l) = (S)-malate(aq)</td>\n",
       "      <td>278.15</td>\n",
       "      <td>6.8</td>\n",
       "      <td>NaN</td>\n",
       "      <td>Jacobsohn K.P.; Biochem. Z.; 274 167 (1934).</td>\n",
       "      <td>34JAC_1142</td>\n",
       "      <td>4.2.1.2\\r                                    ...</td>\n",
       "      <td>polarimetry</td>\n",
       "      <td>barbital</td>\n",
       "      <td>...</td>\n",
       "      <td>NaN</td>\n",
       "      <td>NaN</td>\n",
       "      <td>NaN</td>\n",
       "      <td>NaN</td>\n",
       "      <td>NaN</td>\n",
       "      <td>NaN</td>\n",
       "      <td>NaN</td>\n",
       "      <td>NaN</td>\n",
       "      <td>NaN</td>\n",
       "      <td>NaN</td>\n",
       "    </tr>\n",
       "    <tr>\n",
       "      <th>...</th>\n",
       "      <td>...</td>\n",
       "      <td>...</td>\n",
       "      <td>...</td>\n",
       "      <td>...</td>\n",
       "      <td>...</td>\n",
       "      <td>...</td>\n",
       "      <td>...</td>\n",
       "      <td>...</td>\n",
       "      <td>...</td>\n",
       "      <td>...</td>\n",
       "      <td>...</td>\n",
       "      <td>...</td>\n",
       "      <td>...</td>\n",
       "      <td>...</td>\n",
       "      <td>...</td>\n",
       "      <td>...</td>\n",
       "      <td>...</td>\n",
       "      <td>...</td>\n",
       "      <td>...</td>\n",
       "      <td>...</td>\n",
       "      <td>...</td>\n",
       "    </tr>\n",
       "    <tr>\n",
       "      <th>4036</th>\n",
       "      <td>triacylglycerol lipase</td>\n",
       "      <td>1-dodecanoic acid(sln) + (-)-menthol(sln) = (...</td>\n",
       "      <td>298.15</td>\n",
       "      <td>NaN</td>\n",
       "      <td>NaN</td>\n",
       "      <td>NaN</td>\n",
       "      <td>NaN</td>\n",
       "      <td>NaN</td>\n",
       "      <td>NaN</td>\n",
       "      <td>NaN</td>\n",
       "      <td>...</td>\n",
       "      <td>NaN</td>\n",
       "      <td>NaN</td>\n",
       "      <td>NaN</td>\n",
       "      <td>NaN</td>\n",
       "      <td>3.23</td>\n",
       "      <td>NaN</td>\n",
       "      <td>NaN</td>\n",
       "      <td>NaN</td>\n",
       "      <td>NaN</td>\n",
       "      <td>NaN</td>\n",
       "    </tr>\n",
       "    <tr>\n",
       "      <th>4037</th>\n",
       "      <td>triacylglycerol lipase</td>\n",
       "      <td>1-dodecanoic acid(sln) + (-)-menthol(sln) = (...</td>\n",
       "      <td>298.15</td>\n",
       "      <td>NaN</td>\n",
       "      <td>NaN</td>\n",
       "      <td>NaN</td>\n",
       "      <td>NaN</td>\n",
       "      <td>NaN</td>\n",
       "      <td>NaN</td>\n",
       "      <td>NaN</td>\n",
       "      <td>...</td>\n",
       "      <td>NaN</td>\n",
       "      <td>NaN</td>\n",
       "      <td>NaN</td>\n",
       "      <td>NaN</td>\n",
       "      <td>23.7</td>\n",
       "      <td>NaN</td>\n",
       "      <td>NaN</td>\n",
       "      <td>NaN</td>\n",
       "      <td>NaN</td>\n",
       "      <td>NaN</td>\n",
       "    </tr>\n",
       "    <tr>\n",
       "      <th>4038</th>\n",
       "      <td>triacylglycerol lipase</td>\n",
       "      <td>1-dodecanoic acid(sln) + (-)-menthol(sln) = (...</td>\n",
       "      <td>298.15</td>\n",
       "      <td>NaN</td>\n",
       "      <td>NaN</td>\n",
       "      <td>NaN</td>\n",
       "      <td>NaN</td>\n",
       "      <td>NaN</td>\n",
       "      <td>NaN</td>\n",
       "      <td>NaN</td>\n",
       "      <td>...</td>\n",
       "      <td>NaN</td>\n",
       "      <td>NaN</td>\n",
       "      <td>NaN</td>\n",
       "      <td>NaN</td>\n",
       "      <td>21.7</td>\n",
       "      <td>NaN</td>\n",
       "      <td>NaN</td>\n",
       "      <td>NaN</td>\n",
       "      <td>NaN</td>\n",
       "      <td>NaN</td>\n",
       "    </tr>\n",
       "    <tr>\n",
       "      <th>4039</th>\n",
       "      <td>triacylglycerol lipase</td>\n",
       "      <td>1-dodecanoic acid(sln) + (-)-menthol(sln) = (...</td>\n",
       "      <td>298.15</td>\n",
       "      <td>NaN</td>\n",
       "      <td>NaN</td>\n",
       "      <td>NaN</td>\n",
       "      <td>NaN</td>\n",
       "      <td>NaN</td>\n",
       "      <td>NaN</td>\n",
       "      <td>NaN</td>\n",
       "      <td>...</td>\n",
       "      <td>NaN</td>\n",
       "      <td>NaN</td>\n",
       "      <td>NaN</td>\n",
       "      <td>NaN</td>\n",
       "      <td>6.5</td>\n",
       "      <td>NaN</td>\n",
       "      <td>NaN</td>\n",
       "      <td>NaN</td>\n",
       "      <td>NaN</td>\n",
       "      <td>NaN</td>\n",
       "    </tr>\n",
       "    <tr>\n",
       "      <th>4040</th>\n",
       "      <td>triacylglycerol lipase</td>\n",
       "      <td>1-dodecanoic acid(sln) + (-)-menthol(sln) = (...</td>\n",
       "      <td>298.15</td>\n",
       "      <td>NaN</td>\n",
       "      <td>NaN</td>\n",
       "      <td>NaN</td>\n",
       "      <td>NaN</td>\n",
       "      <td>NaN</td>\n",
       "      <td>NaN</td>\n",
       "      <td>NaN</td>\n",
       "      <td>...</td>\n",
       "      <td>NaN</td>\n",
       "      <td>NaN</td>\n",
       "      <td>NaN</td>\n",
       "      <td>NaN</td>\n",
       "      <td>12.0</td>\n",
       "      <td>NaN</td>\n",
       "      <td>NaN</td>\n",
       "      <td>NaN</td>\n",
       "      <td>NaN</td>\n",
       "      <td>NaN</td>\n",
       "    </tr>\n",
       "  </tbody>\n",
       "</table>\n",
       "<p>4041 rows × 59 columns</p>\n",
       "</div>"
      ],
      "text/plain": [
       "                        Enzyme:  \\\n",
       "index                             \n",
       "0       aspartate ammonia-lyase   \n",
       "1       aspartate ammonia-lyase   \n",
       "2            fumarate hydratase   \n",
       "3            fumarate hydratase   \n",
       "4            fumarate hydratase   \n",
       "...                         ...   \n",
       "4036     triacylglycerol lipase   \n",
       "4037     triacylglycerol lipase   \n",
       "4038     triacylglycerol lipase   \n",
       "4039     triacylglycerol lipase   \n",
       "4040     triacylglycerol lipase   \n",
       "\n",
       "                                               Reaction:    T(K)   pH   \\\n",
       "index                                                                    \n",
       "0           L-aspartate(aq) = fumarate(aq) + ammonia(aq)  310.15   7.4   \n",
       "1           L-aspartate(aq) = fumarate(aq) + ammonia(aq)  310.15   7.4   \n",
       "2                 fumarate(aq) + H2O(l) = (S)-malate(aq)  298.15  6.81   \n",
       "3                 fumarate(aq) + H2O(l) = (S)-malate(aq)  298.15  7.12   \n",
       "4                 fumarate(aq) + H2O(l) = (S)-malate(aq)  278.15   6.8   \n",
       "...                                                  ...     ...   ...   \n",
       "4036    1-dodecanoic acid(sln) + (-)-menthol(sln) = (...  298.15   NaN   \n",
       "4037    1-dodecanoic acid(sln) + (-)-menthol(sln) = (...  298.15   NaN   \n",
       "4038    1-dodecanoic acid(sln) + (-)-menthol(sln) = (...  298.15   NaN   \n",
       "4039    1-dodecanoic acid(sln) + (-)-menthol(sln) = (...  298.15   NaN   \n",
       "4040    1-dodecanoic acid(sln) + (-)-menthol(sln) = (...  298.15   NaN   \n",
       "\n",
       "      K<sub>c</sub>'                                          Reference:  \\\n",
       "index                                                                      \n",
       "0               ~0.04  Quastel J.H.; Woolf B.; Biochem. J.; 20 545 (1...   \n",
       "1                0.01              Woolf B.; Biochem. J.; 23 472 (1929).   \n",
       "2                 NaN  Borsook H.; Schott H.F.; J. Biol. Chem.; 92 55...   \n",
       "3                 NaN                                                NaN   \n",
       "4                 NaN       Jacobsohn K.P.; Biochem. Z.; 274 167 (1934).   \n",
       "...               ...                                                ...   \n",
       "4036              NaN                                                NaN   \n",
       "4037              NaN                                                NaN   \n",
       "4038              NaN                                                NaN   \n",
       "4039              NaN                                                NaN   \n",
       "4040              NaN                                                NaN   \n",
       "\n",
       "        Reference ID:                                          EC Value:  \\\n",
       "index                                                                      \n",
       "0      26QUA/WOO_1205   4.3.1.1\\r                                    ...   \n",
       "1          29WOO_1206   4.3.1.1\\r                                    ...   \n",
       "2      31BOR/SCH_1141   4.2.1.2\\r                                    ...   \n",
       "3                 NaN                                                NaN   \n",
       "4          34JAC_1142   4.2.1.2\\r                                    ...   \n",
       "...               ...                                                ...   \n",
       "4036              NaN                                                NaN   \n",
       "4037              NaN                                                NaN   \n",
       "4038              NaN                                                NaN   \n",
       "4039              NaN                                                NaN   \n",
       "4040              NaN                                                NaN   \n",
       "\n",
       "                                  Method:     Buffer:  ...  \\\n",
       "index                                                  ...   \n",
       "0                       chemical analysis   phosphate  ...   \n",
       "1       chemical analysis and polarimetry   phosphate  ...   \n",
       "2                        electrochemistry              ...   \n",
       "3                                     NaN         NaN  ...   \n",
       "4                             polarimetry    barbital  ...   \n",
       "...                                   ...         ...  ...   \n",
       "4036                                  NaN         NaN  ...   \n",
       "4037                                  NaN         NaN  ...   \n",
       "4038                                  NaN         NaN  ...   \n",
       "4039                                  NaN         NaN  ...   \n",
       "4040                                  NaN         NaN  ...   \n",
       "\n",
       "      δ<sub>r</sub>H(cal)/,kJ.mol<sup>-1</sup>) p(MPa) added solute  media   \\\n",
       "index                                                                         \n",
       "0                                           NaN    NaN           NaN    NaN   \n",
       "1                                           NaN    NaN           NaN    NaN   \n",
       "2                                           NaN    NaN           NaN    NaN   \n",
       "3                                           NaN    NaN           NaN    NaN   \n",
       "4                                           NaN    NaN           NaN    NaN   \n",
       "...                                         ...    ...           ...    ...   \n",
       "4036                                        NaN    NaN           NaN    NaN   \n",
       "4037                                        NaN    NaN           NaN    NaN   \n",
       "4038                                        NaN    NaN           NaN    NaN   \n",
       "4039                                        NaN    NaN           NaN    NaN   \n",
       "4040                                        NaN    NaN           NaN    NaN   \n",
       "\n",
       "         K  m(MgCl2,mol.kg<sup>-1</sup>) K'(kJ.mol<sup>-1</sup>)  \\\n",
       "index                                                              \n",
       "0       NaN                          NaN                     NaN   \n",
       "1       NaN                          NaN                     NaN   \n",
       "2       NaN                          NaN                     NaN   \n",
       "3       NaN                          NaN                     NaN   \n",
       "4       NaN                          NaN                     NaN   \n",
       "...     ...                          ...                     ...   \n",
       "4036   3.23                          NaN                     NaN   \n",
       "4037   23.7                          NaN                     NaN   \n",
       "4038   21.7                          NaN                     NaN   \n",
       "4039    6.5                          NaN                     NaN   \n",
       "4040   12.0                          NaN                     NaN   \n",
       "\n",
       "      I<sub>c</sub>(kJ.mol<sup>-1</sup>) δ<sub>r</sub>H(cal)   \\\n",
       "index                                                           \n",
       "0                                    NaN                  NaN   \n",
       "1                                    NaN                  NaN   \n",
       "2                                    NaN                  NaN   \n",
       "3                                    NaN                  NaN   \n",
       "4                                    NaN                  NaN   \n",
       "...                                  ...                  ...   \n",
       "4036                                 NaN                  NaN   \n",
       "4037                                 NaN                  NaN   \n",
       "4038                                 NaN                  NaN   \n",
       "4039                                 NaN                  NaN   \n",
       "4040                                 NaN                  NaN   \n",
       "\n",
       "      δ<sub>r</sub>H?(kJ.mol<sup>-1</sup>)  \n",
       "index                                       \n",
       "0                                      NaN  \n",
       "1                                      NaN  \n",
       "2                                      NaN  \n",
       "3                                      NaN  \n",
       "4                                      NaN  \n",
       "...                                    ...  \n",
       "4036                                   NaN  \n",
       "4037                                   NaN  \n",
       "4038                                   NaN  \n",
       "4039                                   NaN  \n",
       "4040                                   NaN  \n",
       "\n",
       "[4041 rows x 59 columns]"
      ]
     },
     "metadata": {},
     "output_type": "display_data"
    },
    {
     "name": "stdout",
     "output_type": "stream",
     "text": [
      "CPU times: total: 18.6 s\n",
      "Wall time: 2min 1s\n"
     ]
    }
   ],
   "source": [
    "%run scraping.py\n",
    "\n",
    "tecr = TECRDB()\n",
    "%time tecr.scrape()"
   ]
  },
  {
   "cell_type": "markdown",
   "id": "34d3d4cf-af57-401f-ab56-d61f4c105c69",
   "metadata": {},
   "source": [
    "# Amalgamate"
   ]
  },
  {
   "cell_type": "code",
   "execution_count": 59,
   "id": "fe6d3599-ee0d-4fdf-a3a2-9fd27a17938b",
   "metadata": {},
   "outputs": [
    {
     "name": "stdout",
     "output_type": "stream",
     "text": [
      "\n",
      "Columns:\n",
      " ========\n",
      "not combined\t Enzyme:\n",
      "not combined\t Reaction:\n",
      "not combined\t Reference:\n",
      "not combined\t Reference ID:\n",
      "not combined\t T(K)\n",
      "not combined\t pH \n",
      "not combined\t K<sub>c</sub>' \n",
      "combined\t δ<sub>r</sub>H'<sup>o</sup>(kJ.mol<sup>-1</sup>)\n",
      "combined\t Km'\n",
      "not combined\t I<sub>m</sub>(mol.kg<sup>-1</sup>)\n",
      "combined\t K \n",
      "combined\t c(Mg2+,mol dm<sup>-3</sup>)\n",
      "combined\t δ<sub>r</sub>H<sup>o</sup>(kJ.mol<sup>-1</sup>)\n",
      "combined\t buffer \n",
      "combined\t c(MnCl2,mol dm<sup>-3</sup>)\n",
      "combined\t c(CaCl2,mol dm<sup>-3</sup>)\n",
      "combined\t K'(kJ.mol<sup>-1</sup>)\n",
      "combined\t δ<sub>r</sub>H(cal)/,kJ.mol<sup>-1</sup>)\n",
      "combined\t c(Mg)tot(mol dm<sup>-3</sup>)\n",
      "combined\t δ<sub>r</sub>H(kJ.mol<sup>-1</sup>)\n",
      "combined\t c(KCl,mol dm<sup>-3</sup>)\n",
      "combined\t δ<sub>r</sub>H(cal)/(n<sup>-1</sup>\n",
      "combined\t p(MPa)\n",
      "combined\t I<sub>c</sub> \n",
      "combined\t K<sub>c</sub> \n",
      "combined\t c(nucleotide)tot(mol dm<sup>-3</sup>)\n",
      "combined\t c(MgCl2,mol dm<sup>-3</sup>)\n",
      "combined\t I<sub>c</sub>(kJ.mol<sup>-1</sup>)\n",
      "not combined\t solvent \n",
      "combined\t c(phosphate,mol dm<sup>-3</sup>)\n",
      "combined\t c(Tris,mol dm<sup>-3</sup>)\n",
      "combined\t c(salt,mol dm<sup>-3</sup>)\n",
      "combined\t added solute \n",
      "combined\t K<sub>c</sub>'(mol dm<sup>-3</sup>)\n",
      "combined\t δ<sub>r</sub>Hcal,kJ.mol<sup>-1</sup>)\n",
      "combined\t c(NaCl,mol dm<sup>-3</sup>)\n",
      "not combined\t m(MgCl2,mol.kg<sup>-1</sup>)\n",
      "combined\t c(MgSO4,mol dm<sup>-3</sup>)\n",
      "not combined\t Buffer:\n",
      "combined\t c(total substrate,mol dm<sup>-3</sup>)\n",
      "combined\t K' \n",
      "not combined\t I<sub>c</sub>(mol dm<sup>-3</sup>)\n",
      "not combined\t pMg \n",
      "combined\t kJ.mol<sup>-1</sup>)\n",
      "combined\t buffer and/or salt \n",
      "combined\t protein \n",
      "combined\t buffer(mol dm<sup>-3</sup>)\n",
      "combined\t c(MgCl2) \n",
      "combined\t percent(dimethyl sulfoxide) \n",
      "combined\t cosolvent \n",
      "combined\t δ<sub>r</sub>H(cal) \n",
      "combined\t m(KCl,mol.kg<sup>-3</sup>)\n",
      "combined\t δ<sub>r</sub>H?(kJ.mol<sup>-1</sup>)\n",
      "not combined\t Km' \n",
      "combined\t media \n",
      "not combined\t δ<sub>r</sub>H(cal)/kJ mol<sup>-1</sup>)\n",
      "not combined\t Method:\n",
      "combined\t salt \n",
      "not combined\t c(glycerol,mol dm<sup>-3</sup>)\n",
      "\n",
      "Combined columns:\n",
      "K \n",
      "c(Mg2+,mol dm<sup>-3</sup>)\n",
      "δ<sub>r</sub>H<sup>o</sup>(kJ.mol<sup>-1</sup>)\n",
      "buffer \n",
      "c(MnCl2,mol dm<sup>-3</sup>)\n",
      "c(CaCl2,mol dm<sup>-3</sup>)\n",
      "Km'\n",
      "K'(kJ.mol<sup>-1</sup>)\n",
      "δ<sub>r</sub>H(cal)/,kJ.mol<sup>-1</sup>)\n",
      "c(Mg)tot(mol dm<sup>-3</sup>)\n",
      "δ<sub>r</sub>H(kJ.mol<sup>-1</sup>)\n",
      "c(KCl,mol dm<sup>-3</sup>)\n",
      "δ<sub>r</sub>H(cal)/(n<sup>-1</sup>\n",
      "p(MPa)\n",
      "I<sub>c</sub> \n",
      "K<sub>c</sub> \n",
      "c(nucleotide)tot(mol dm<sup>-3</sup>)\n",
      "c(MgCl2,mol dm<sup>-3</sup>)\n",
      "I<sub>c</sub>(kJ.mol<sup>-1</sup>)\n",
      "c(phosphate,mol dm<sup>-3</sup>)\n",
      "c(Tris,mol dm<sup>-3</sup>)\n",
      "c(salt,mol dm<sup>-3</sup>)\n",
      "added solute \n",
      "K<sub>c</sub>'(mol dm<sup>-3</sup>)\n",
      "δ<sub>r</sub>Hcal,kJ.mol<sup>-1</sup>)\n",
      "c(NaCl,mol dm<sup>-3</sup>)\n",
      "c(MgSO4,mol dm<sup>-3</sup>)\n",
      "c(total substrate,mol dm<sup>-3</sup>)\n",
      "K' \n",
      "kJ.mol<sup>-1</sup>)\n",
      "buffer and/or salt \n",
      "protein \n",
      "percent(dimethyl sulfoxide) \n",
      "buffer(mol dm<sup>-3</sup>)\n",
      "c(MgCl2) \n",
      "cosolvent \n",
      "δ<sub>r</sub>H(cal) \n",
      "m(KCl,mol.kg<sup>-3</sup>)\n",
      "δ<sub>r</sub>H?(kJ.mol<sup>-1</sup>)\n",
      "media \n",
      "δ<sub>r</sub>H'<sup>o</sup>(kJ.mol<sup>-1</sup>)\n",
      "salt \n",
      "index\n",
      "index.1\n",
      "CPU times: total: 49.9 sled and organized ... 425/425\n",
      "Wall time: 49.9 s\n"
     ]
    }
   ],
   "source": [
    "%run scraping.py\n",
    "\n",
    "tecr = TECRDB()\n",
    "%time tecr.amalgamate()"
   ]
  }
 ],
 "metadata": {
  "kernelspec": {
   "display_name": "Python 3 (ipykernel)",
   "language": "python",
   "name": "python3"
  },
  "language_info": {
   "codemirror_mode": {
    "name": "ipython",
    "version": 3
   },
   "file_extension": ".py",
   "mimetype": "text/x-python",
   "name": "python",
   "nbconvert_exporter": "python",
   "pygments_lexer": "ipython3",
   "version": "3.9.12"
  }
 },
 "nbformat": 4,
 "nbformat_minor": 5
}
